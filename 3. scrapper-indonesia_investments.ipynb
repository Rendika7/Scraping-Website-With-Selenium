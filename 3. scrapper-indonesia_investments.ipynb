{
 "cells": [
  {
   "cell_type": "code",
   "execution_count": 27,
   "metadata": {},
   "outputs": [],
   "source": [
    "import urllib.parse\n",
    "from selenium import webdriver\n",
    "from selenium.webdriver.common.by import By\n",
    "from selenium.webdriver.chrome.service import Service\n",
    "from selenium.webdriver.chrome.options import Options\n",
    "from selenium.webdriver.support.ui import WebDriverWait\n",
    "from selenium.webdriver.support import expected_conditions as EC\n",
    "from selenium.webdriver.common.action_chains import ActionChains\n",
    "\n",
    "import pandas as pd\n",
    "import time\n",
    "from bs4 import BeautifulSoup\n",
    "import re"
   ]
  },
  {
   "cell_type": "code",
   "execution_count": 28,
   "metadata": {},
   "outputs": [],
   "source": [
    "def configure_driver():\n",
    "    chrome_options = Options()\n",
    "    # options.add_argument('--headless')  # Menjalankan Chrome tanpa antarmuka grafis\n",
    "    chrome_options.add_argument(\"user-agent=Mozilla/5.0 (Windows NT 10.0; Win64; x64) AppleWebKit/537.36 (KHTML, like Gecko) Chrome/133.0.0.0 Safari/537.36\")\n",
    "    chrome_options.add_argument('--disable-dev-shm-usage')  # Mencegah masalah memori\n",
    "    chrome_options.add_argument('--disable-gpu')  # Opsi tambahan untuk meningkatkan stabilitas\n",
    "    chrome_options.add_argument('--remote-debugging-port=9222')\n",
    "\n",
    "    # Tentukan path ChromeDriver\n",
    "    service = Service(r'chromedriver-win64\\chromedriver.exe')\n",
    "    driver = webdriver.Chrome(service=service, options=chrome_options)\n",
    "    return driver"
   ]
  },
  {
   "cell_type": "code",
   "execution_count": 31,
   "metadata": {},
   "outputs": [
    {
     "name": "stdout",
     "output_type": "stream",
     "text": [
      "Halaman 1 telah dimuat.\n",
      "Halaman 2 telah dimuat.\n",
      "Halaman 3 telah dimuat.\n",
      "Halaman 4 telah dimuat.\n",
      "Halaman 5 telah dimuat.\n",
      "Halaman 6 telah dimuat.\n",
      "Halaman 7 telah dimuat.\n",
      "Halaman 8 telah dimuat.\n",
      "Halaman 9 telah dimuat.\n",
      "Halaman 10 telah dimuat.\n",
      "Halaman 11 telah dimuat.\n",
      "Halaman 12 telah dimuat.\n",
      "Halaman 13 telah dimuat.\n",
      "Halaman 14 telah dimuat.\n",
      "Halaman 15 telah dimuat.\n"
     ]
    }
   ],
   "source": [
    "# Setup WebDriver\n",
    "driver = configure_driver()\n",
    "\n",
    "# Navigasi ke halaman yang diinginkan\n",
    "driver.get(\"https://www.indonesia-investments.com/id/bisnis/profil-perusahaan/item74\")\n",
    "\n",
    "# List untuk menyimpan data\n",
    "all_data = []\n",
    "\n",
    "# Set counter klik\n",
    "click_count = 0\n",
    "\n",
    "# Loop untuk scrape data selama belum mencapai halaman 15\n",
    "while click_count < 15:\n",
    "    # Tunggu hingga tabel dimuat\n",
    "    WebDriverWait(driver, 10).until(EC.presence_of_element_located((By.CLASS_NAME, \"companyfiles\")))\n",
    "\n",
    "    # Ambil halaman HTML\n",
    "    html = driver.page_source\n",
    "    soup = BeautifulSoup(html, 'html.parser')\n",
    "\n",
    "    # Cari semua tabel yang memiliki class 'companyfiles'\n",
    "    table = soup.find('table', class_='companyfiles')\n",
    "    rows = table.find_all('tr')  # Ambil semua baris dalam tabel\n",
    "\n",
    "    # List untuk menyimpan data halaman ini\n",
    "    page_data = []\n",
    "\n",
    "    # Loop untuk mengambil data dari setiap baris tabel\n",
    "    for row in rows:\n",
    "        company_name = row.find('td', class_='companyname')\n",
    "        if company_name:\n",
    "            company_name = company_name.get_text(strip=True)\n",
    "            \n",
    "            # Ambil sektor\n",
    "            sector = row.find('td', class_='sector')\n",
    "            sector = sector.get_text(strip=True) if sector else 'No sector'\n",
    "            \n",
    "            # Ambil link website\n",
    "            website = row.find('td', class_='website').find('a')['href']\n",
    "            \n",
    "            # Simpan data ke dalam list\n",
    "            page_data.append({\n",
    "                \"Nama Perusahaan\": company_name,\n",
    "                \"Sektor\": sector,\n",
    "                \"Situs\": website\n",
    "            })\n",
    "\n",
    "    # Tambahkan data halaman ini ke list utama\n",
    "    all_data.extend(page_data)\n",
    "\n",
    "    # Cari tombol \"Next\"\n",
    "    next_button = driver.find_element(By.CLASS_NAME, 'next')\n",
    "\n",
    "    # Mengecek apakah tombol Next aktif atau tidak\n",
    "    if \"disabled\" in next_button.get_attribute(\"class\"):\n",
    "        print(\"Tombol Next tidak aktif, sudah mencapai halaman terakhir.\")\n",
    "        break  # Jika tombol Next disabled, berarti kita sudah di halaman terakhir\n",
    "\n",
    "    # Menggunakan ActionChains untuk memastikan kita mengklik tombol dengan benar\n",
    "    actions = ActionChains(driver)\n",
    "    \n",
    "    try:\n",
    "        # Scroll ke tombol Next agar bisa terlihat dan diklik\n",
    "        driver.execute_script(\"arguments[0].scrollIntoView(true);\", next_button)\n",
    "        \n",
    "        # Tunggu hingga tombol Next dapat diklik\n",
    "        WebDriverWait(driver, 10).until(EC.element_to_be_clickable(next_button))\n",
    "        \n",
    "        # Klik tombol Next\n",
    "        actions.move_to_element(next_button).click().perform()\n",
    "        \n",
    "        # Tunggu sebentar untuk memastikan halaman berikutnya dimuat\n",
    "        time.sleep(2)\n",
    "\n",
    "        # Increment click_count\n",
    "        click_count += 1\n",
    "        print(f\"Halaman {click_count} telah dimuat.\")\n",
    "\n",
    "    except Exception as e:\n",
    "        print(f\"Tidak dapat mengklik tombol Next atau sudah mencapai halaman terakhir. Error: {str(e)}\")\n",
    "        break  # Jika terjadi kesalahan atau tombol Next tidak bisa diklik, berhenti\n",
    "\n",
    "# Buat DataFrame dari list all_data\n",
    "df = pd.DataFrame(all_data)\n",
    "\n",
    "# Menutup browser setelah selesai\n",
    "driver.quit()"
   ]
  },
  {
   "cell_type": "code",
   "execution_count": 32,
   "metadata": {},
   "outputs": [
    {
     "data": {
      "text/plain": [
       "np.int64(0)"
      ]
     },
     "execution_count": 32,
     "metadata": {},
     "output_type": "execute_result"
    }
   ],
   "source": [
    "df.duplicated().sum()"
   ]
  },
  {
   "cell_type": "code",
   "execution_count": 35,
   "metadata": {},
   "outputs": [],
   "source": [
    "df.to_excel('indonesia-investments-scrapper.xlsx', index=False)"
   ]
  }
 ],
 "metadata": {
  "kernelspec": {
   "display_name": "scrapper-env",
   "language": "python",
   "name": "python3"
  },
  "language_info": {
   "codemirror_mode": {
    "name": "ipython",
    "version": 3
   },
   "file_extension": ".py",
   "mimetype": "text/x-python",
   "name": "python",
   "nbconvert_exporter": "python",
   "pygments_lexer": "ipython3",
   "version": "3.11.11"
  }
 },
 "nbformat": 4,
 "nbformat_minor": 2
}
